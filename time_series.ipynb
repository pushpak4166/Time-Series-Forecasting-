{
 "cells": [
  {
   "cell_type": "code",
   "execution_count": 1,
   "metadata": {},
   "outputs": [],
   "source": [
    "import pandas as pd\n",
    "import matplotlib.pyplot as plt\n",
    "\n",
    "%matplotlib inline   # just to avoid plt.show() command"
   ]
  },
  {
   "cell_type": "code",
   "execution_count": 5,
   "metadata": {},
   "outputs": [],
   "source": [
    "f_birth = pd.read_csv('daily-total-female-births-CA.csv',index_col=[0],parse_dates=[0])"
   ]
  },
  {
   "cell_type": "code",
   "execution_count": 6,
   "metadata": {},
   "outputs": [
    {
     "data": {
      "text/html": [
       "<div>\n",
       "<style scoped>\n",
       "    .dataframe tbody tr th:only-of-type {\n",
       "        vertical-align: middle;\n",
       "    }\n",
       "\n",
       "    .dataframe tbody tr th {\n",
       "        vertical-align: top;\n",
       "    }\n",
       "\n",
       "    .dataframe thead th {\n",
       "        text-align: right;\n",
       "    }\n",
       "</style>\n",
       "<table border=\"1\" class=\"dataframe\">\n",
       "  <thead>\n",
       "    <tr style=\"text-align: right;\">\n",
       "      <th></th>\n",
       "      <th>births</th>\n",
       "    </tr>\n",
       "    <tr>\n",
       "      <th>date</th>\n",
       "      <th></th>\n",
       "    </tr>\n",
       "  </thead>\n",
       "  <tbody>\n",
       "    <tr>\n",
       "      <th>1959-01-01</th>\n",
       "      <td>35</td>\n",
       "    </tr>\n",
       "    <tr>\n",
       "      <th>1959-01-02</th>\n",
       "      <td>32</td>\n",
       "    </tr>\n",
       "    <tr>\n",
       "      <th>1959-01-03</th>\n",
       "      <td>30</td>\n",
       "    </tr>\n",
       "    <tr>\n",
       "      <th>1959-01-04</th>\n",
       "      <td>31</td>\n",
       "    </tr>\n",
       "    <tr>\n",
       "      <th>1959-01-05</th>\n",
       "      <td>44</td>\n",
       "    </tr>\n",
       "  </tbody>\n",
       "</table>\n",
       "</div>"
      ],
      "text/plain": [
       "            births\n",
       "date              \n",
       "1959-01-01      35\n",
       "1959-01-02      32\n",
       "1959-01-03      30\n",
       "1959-01-04      31\n",
       "1959-01-05      44"
      ]
     },
     "execution_count": 6,
     "metadata": {},
     "output_type": "execute_result"
    }
   ],
   "source": [
    "# lets observe first 5 days \n",
    "f_birth.head()"
   ]
  },
  {
   "cell_type": "code",
   "execution_count": 7,
   "metadata": {},
   "outputs": [
    {
     "data": {
      "text/plain": [
       "pandas.core.frame.DataFrame"
      ]
     },
     "execution_count": 7,
     "metadata": {},
     "output_type": "execute_result"
    }
   ],
   "source": [
    "type(f_birth)"
   ]
  },
  {
   "cell_type": "code",
   "execution_count": 8,
   "metadata": {},
   "outputs": [],
   "source": [
    "# values function helps us to take down series array to numpy array\n",
    "series_value = f_birth.values"
   ]
  },
  {
   "cell_type": "code",
   "execution_count": 10,
   "metadata": {},
   "outputs": [
    {
     "data": {
      "text/plain": [
       "numpy.ndarray"
      ]
     },
     "execution_count": 10,
     "metadata": {},
     "output_type": "execute_result"
    }
   ],
   "source": [
    "type(series_value)"
   ]
  },
  {
   "cell_type": "code",
   "execution_count": 11,
   "metadata": {},
   "outputs": [
    {
     "data": {
      "text/plain": [
       "(365, 1)"
      ]
     },
     "execution_count": 11,
     "metadata": {},
     "output_type": "execute_result"
    }
   ],
   "source": [
    "f_birth.shape\n"
   ]
  },
  {
   "cell_type": "code",
   "execution_count": 13,
   "metadata": {},
   "outputs": [
    {
     "data": {
      "text/html": [
       "<div>\n",
       "<style scoped>\n",
       "    .dataframe tbody tr th:only-of-type {\n",
       "        vertical-align: middle;\n",
       "    }\n",
       "\n",
       "    .dataframe tbody tr th {\n",
       "        vertical-align: top;\n",
       "    }\n",
       "\n",
       "    .dataframe thead th {\n",
       "        text-align: right;\n",
       "    }\n",
       "</style>\n",
       "<table border=\"1\" class=\"dataframe\">\n",
       "  <thead>\n",
       "    <tr style=\"text-align: right;\">\n",
       "      <th></th>\n",
       "      <th>births</th>\n",
       "    </tr>\n",
       "    <tr>\n",
       "      <th>date</th>\n",
       "      <th></th>\n",
       "    </tr>\n",
       "  </thead>\n",
       "  <tbody>\n",
       "    <tr>\n",
       "      <th>1959-12-27</th>\n",
       "      <td>37</td>\n",
       "    </tr>\n",
       "    <tr>\n",
       "      <th>1959-12-28</th>\n",
       "      <td>52</td>\n",
       "    </tr>\n",
       "    <tr>\n",
       "      <th>1959-12-29</th>\n",
       "      <td>48</td>\n",
       "    </tr>\n",
       "    <tr>\n",
       "      <th>1959-12-30</th>\n",
       "      <td>55</td>\n",
       "    </tr>\n",
       "    <tr>\n",
       "      <th>1959-12-31</th>\n",
       "      <td>50</td>\n",
       "    </tr>\n",
       "  </tbody>\n",
       "</table>\n",
       "</div>"
      ],
      "text/plain": [
       "            births\n",
       "date              \n",
       "1959-12-27      37\n",
       "1959-12-28      52\n",
       "1959-12-29      48\n",
       "1959-12-30      55\n",
       "1959-12-31      50"
      ]
     },
     "execution_count": 13,
     "metadata": {},
     "output_type": "execute_result"
    }
   ],
   "source": [
    "# last 5 observations\n",
    "f_birth.tail()"
   ]
  },
  {
   "cell_type": "code",
   "execution_count": 14,
   "metadata": {},
   "outputs": [
    {
     "data": {
      "text/html": [
       "<div>\n",
       "<style scoped>\n",
       "    .dataframe tbody tr th:only-of-type {\n",
       "        vertical-align: middle;\n",
       "    }\n",
       "\n",
       "    .dataframe tbody tr th {\n",
       "        vertical-align: top;\n",
       "    }\n",
       "\n",
       "    .dataframe thead th {\n",
       "        text-align: right;\n",
       "    }\n",
       "</style>\n",
       "<table border=\"1\" class=\"dataframe\">\n",
       "  <thead>\n",
       "    <tr style=\"text-align: right;\">\n",
       "      <th></th>\n",
       "      <th>births</th>\n",
       "    </tr>\n",
       "  </thead>\n",
       "  <tbody>\n",
       "    <tr>\n",
       "      <th>count</th>\n",
       "      <td>365.000000</td>\n",
       "    </tr>\n",
       "    <tr>\n",
       "      <th>mean</th>\n",
       "      <td>41.980822</td>\n",
       "    </tr>\n",
       "    <tr>\n",
       "      <th>std</th>\n",
       "      <td>7.348257</td>\n",
       "    </tr>\n",
       "    <tr>\n",
       "      <th>min</th>\n",
       "      <td>23.000000</td>\n",
       "    </tr>\n",
       "    <tr>\n",
       "      <th>25%</th>\n",
       "      <td>37.000000</td>\n",
       "    </tr>\n",
       "    <tr>\n",
       "      <th>50%</th>\n",
       "      <td>42.000000</td>\n",
       "    </tr>\n",
       "    <tr>\n",
       "      <th>75%</th>\n",
       "      <td>46.000000</td>\n",
       "    </tr>\n",
       "    <tr>\n",
       "      <th>max</th>\n",
       "      <td>73.000000</td>\n",
       "    </tr>\n",
       "  </tbody>\n",
       "</table>\n",
       "</div>"
      ],
      "text/plain": [
       "           births\n",
       "count  365.000000\n",
       "mean    41.980822\n",
       "std      7.348257\n",
       "min     23.000000\n",
       "25%     37.000000\n",
       "50%     42.000000\n",
       "75%     46.000000\n",
       "max     73.000000"
      ]
     },
     "execution_count": 14,
     "metadata": {},
     "output_type": "execute_result"
    }
   ],
   "source": [
    "f_birth.describe()"
   ]
  },
  {
   "cell_type": "code",
   "execution_count": 15,
   "metadata": {},
   "outputs": [
    {
     "data": {
      "text/plain": [
       "<matplotlib.axes._subplots.AxesSubplot at 0x215183a7208>"
      ]
     },
     "execution_count": 15,
     "metadata": {},
     "output_type": "execute_result"
    },
    {
     "data": {
      "image/png": "[encoded data removed]",
      "text/plain": [
       "<Figure size 432x288 with 1 Axes>"
      ]
     },
     "metadata": {
      "needs_background": "light"
     },
     "output_type": "display_data"
    }
   ],
   "source": [
    "f_birth.plot()"
   ]
  },
  {
   "cell_type": "code",
   "execution_count": 19,
   "metadata": {},
   "outputs": [
    {
     "data": {
      "text/plain": [
       "<matplotlib.axes._subplots.AxesSubplot at 0x2151a503388>"
      ]
     },
     "execution_count": 19,
     "metadata": {},
     "output_type": "execute_result"
    },
    {
     "data": {
      "image/png": "[encoded data removed]",
      "text/plain": [
       "<Figure size 432x288 with 1 Axes>"
      ]
     },
     "metadata": {
      "needs_background": "light"
     },
     "output_type": "display_data"
    },
    {
     "data": {
      "image/png": "[encoded data removed]",
      "text/plain": [
       "<Figure size 432x288 with 1 Axes>"
      ]
     },
     "metadata": {
      "needs_background": "light"
     },
     "output_type": "display_data"
    }
   ],
   "source": [
    "# now we have to smoothen the plot\n",
    "# rolling function is used for moving average and in window is used for how much rolling is required\n",
    "# moving avg is also used in stock marketing \n",
    "f_birth.plot()\n",
    "\n",
    "f_birth_mean = f_birth.rolling(window=20).mean()\n",
    "f_birth_mean.plot()"
   ]
  },
  {
   "cell_type": "markdown",
   "metadata": {},
   "source": [
    "\n",
    "\n",
    "\n",
    "# Base Line \n",
    "\n"
   ]
  },
  {
   "cell_type": "code",
   "execution_count": 22,
   "metadata": {},
   "outputs": [],
   "source": [
    "value = pd.DataFrame(series_value) \n",
    "birth_df = pd.concat([value,value.shift(1)],axis=1)"
   ]
  },
  {
   "cell_type": "code",
   "execution_count": 23,
   "metadata": {},
   "outputs": [],
   "source": [
    "birth_df.columns = ['Actual_birth','Forecast_birth']"
   ]
  },
  {
   "cell_type": "code",
   "execution_count": 24,
   "metadata": {},
   "outputs": [
    {
     "data": {
      "text/html": [
       "<div>\n",
       "<style scoped>\n",
       "    .dataframe tbody tr th:only-of-type {\n",
       "        vertical-align: middle;\n",
       "    }\n",
       "\n",
       "    .dataframe tbody tr th {\n",
       "        vertical-align: top;\n",
       "    }\n",
       "\n",
       "    .dataframe thead th {\n",
       "        text-align: right;\n",
       "    }\n",
       "</style>\n",
       "<table border=\"1\" class=\"dataframe\">\n",
       "  <thead>\n",
       "    <tr style=\"text-align: right;\">\n",
       "      <th></th>\n",
       "      <th>Actual_birth</th>\n",
       "      <th>Forecast_birth</th>\n",
       "    </tr>\n",
       "  </thead>\n",
       "  <tbody>\n",
       "    <tr>\n",
       "      <th>0</th>\n",
       "      <td>35</td>\n",
       "      <td>NaN</td>\n",
       "    </tr>\n",
       "    <tr>\n",
       "      <th>1</th>\n",
       "      <td>32</td>\n",
       "      <td>35.0</td>\n",
       "    </tr>\n",
       "    <tr>\n",
       "      <th>2</th>\n",
       "      <td>30</td>\n",
       "      <td>32.0</td>\n",
       "    </tr>\n",
       "    <tr>\n",
       "      <th>3</th>\n",
       "      <td>31</td>\n",
       "      <td>30.0</td>\n",
       "    </tr>\n",
       "    <tr>\n",
       "      <th>4</th>\n",
       "      <td>44</td>\n",
       "      <td>31.0</td>\n",
       "    </tr>\n",
       "  </tbody>\n",
       "</table>\n",
       "</div>"
      ],
      "text/plain": [
       "   Actual_birth  Forecast_birth\n",
       "0            35             NaN\n",
       "1            32            35.0\n",
       "2            30            32.0\n",
       "3            31            30.0\n",
       "4            44            31.0"
      ]
     },
     "execution_count": 24,
     "metadata": {},
     "output_type": "execute_result"
    }
   ],
   "source": [
    "birth_df.head()"
   ]
  },
  {
   "cell_type": "code",
   "execution_count": 25,
   "metadata": {},
   "outputs": [],
   "source": [
    "from sklearn.metrics import mean_squared_error\n",
    "import numpy as np"
   ]
  },
  {
   "cell_type": "code",
   "execution_count": 28,
   "metadata": {},
   "outputs": [],
   "source": [
    "birth_test = birth_df[1:]\n",
    "birth_error = mean_squared_error(birth_test.Actual_birth , birth_test.Forecast_birth)"
   ]
  },
  {
   "cell_type": "code",
   "execution_count": 33,
   "metadata": {},
   "outputs": [
    {
     "data": {
      "text/plain": [
       "9.177283229394606"
      ]
     },
     "execution_count": 33,
     "metadata": {},
     "output_type": "execute_result"
    }
   ],
   "source": [
    "# showing root mean squared error \n",
    "error_baseline = np.sqrt(birth_error)"
   ]
  },
  {
   "cell_type": "markdown",
   "metadata": {},
   "source": [
    "\n",
    "\n",
    "# ARIMA - Auto Regressive Integrated Moving Average \n",
    "\n",
    "#### Auto regration = p \n",
    "#### Integrated ( whether stationary series ) = d \n",
    "#### Moving average = q"
   ]
  },
  {
   "cell_type": "code",
   "execution_count": 34,
   "metadata": {},
   "outputs": [],
   "source": [
    "from statsmodels.graphics.tsaplots import plot_acf,plot_pacf "
   ]
  },
  {
   "cell_type": "code",
   "execution_count": 40,
   "metadata": {},
   "outputs": [
    {
     "data": {
      "image/png": "[encoded data removed]",
      "text/plain": [
       "<Figure size 432x288 with 1 Axes>"
      ]
     },
     "execution_count": 40,
     "metadata": {},
     "output_type": "execute_result"
    },
    {
     "data": {
      "image/png": "[encoded data removed]",
      "text/plain": [
       "<Figure size 432x288 with 1 Axes>"
      ]
     },
     "metadata": {
      "needs_background": "light"
     },
     "output_type": "display_data"
    },
    {
     "data": {
      "image/png": "[encoded data removed]",
      "text/plain": [
       "<Figure size 432x288 with 1 Axes>"
      ]
     },
     "metadata": {
      "needs_background": "light"
     },
     "output_type": "display_data"
    }
   ],
   "source": [
    "# plot_acf (auto correlation) is to identify parameter q \n",
    "# plot_pacf (partial auto correlation) is to identify parameter p\n",
    "# ARIMA (p,q,r)\n",
    "# x_labels are p and q \n",
    "plot_acf(f_birth)\n",
    "\n",
    "plot_pacf(f_birth)"
   ]
  },
  {
   "cell_type": "code",
   "execution_count": 42,
   "metadata": {},
   "outputs": [
    {
     "data": {
      "text/plain": [
       "365"
      ]
     },
     "execution_count": 42,
     "metadata": {},
     "output_type": "execute_result"
    }
   ],
   "source": [
    "f_birth.size "
   ]
  },
  {
   "cell_type": "code",
   "execution_count": 30,
   "metadata": {},
   "outputs": [
    {
     "ename": "TypeError",
     "evalue": "'DataFrame' object is not callable",
     "output_type": "error",
     "traceback": [
      "\u001b[1;31m---------------------------------------------------------------------------\u001b[0m",
      "\u001b[1;31mTypeError\u001b[0m                                 Traceback (most recent call last)",
      "\u001b[1;32m<ipython-input-30-ac7ca94f4824>\u001b[0m in \u001b[0;36m<module>\u001b[1;34m\u001b[0m\n\u001b[0;32m      3\u001b[0m \u001b[0mbirth_train\u001b[0m \u001b[1;33m=\u001b[0m \u001b[0mf_birth\u001b[0m\u001b[1;33m[\u001b[0m\u001b[1;36m0\u001b[0m\u001b[1;33m:\u001b[0m\u001b[1;36m330\u001b[0m\u001b[1;33m]\u001b[0m\u001b[1;33m\u001b[0m\u001b[1;33m\u001b[0m\u001b[0m\n\u001b[0;32m      4\u001b[0m \u001b[0mbirth_test\u001b[0m \u001b[1;33m=\u001b[0m \u001b[0mf_birth\u001b[0m\u001b[1;33m[\u001b[0m\u001b[1;36m330\u001b[0m\u001b[1;33m:\u001b[0m\u001b[1;36m365\u001b[0m\u001b[1;33m]\u001b[0m\u001b[1;33m\u001b[0m\u001b[1;33m\u001b[0m\u001b[0m\n\u001b[1;32m----> 5\u001b[1;33m \u001b[0mbirth_test\u001b[0m\u001b[1;33m(\u001b[0m\u001b[1;36m0\u001b[0m\u001b[1;33m)\u001b[0m\u001b[1;33m\u001b[0m\u001b[1;33m\u001b[0m\u001b[0m\n\u001b[0m",
      "\u001b[1;31mTypeError\u001b[0m: 'DataFrame' object is not callable"
     ]
    }
   ],
   "source": [
    "# spliting the data set to train and test \n",
    "\n",
    "birth_train = f_birth[0:330]\n",
    "birth_test = f_birth[330:365]"
   ]
  },
  {
   "cell_type": "code",
   "execution_count": 48,
   "metadata": {},
   "outputs": [],
   "source": [
    "from statsmodels.tsa.arima_model import ARIMA"
   ]
  },
  {
   "cell_type": "code",
   "execution_count": 57,
   "metadata": {},
   "outputs": [
    {
     "name": "stderr",
     "output_type": "stream",
     "text": [
      "C:\\Users\\Pushpak\\anaconda3\\lib\\site-packages\\statsmodels\\tsa\\base\\tsa_model.py:162: ValueWarning: No frequency information was provided, so inferred frequency D will be used.\n",
      "  % freq, ValueWarning)\n",
      "C:\\Users\\Pushpak\\anaconda3\\lib\\site-packages\\statsmodels\\tsa\\base\\tsa_model.py:162: ValueWarning: No frequency information was provided, so inferred frequency D will be used.\n",
      "  % freq, ValueWarning)\n"
     ]
    }
   ],
   "source": [
    "birth_model = ARIMA(birth_train,order=(2,1,3))\n",
    "\n",
    "birth_model_fit = birth_model.fit()"
   ]
  },
  {
   "cell_type": "code",
   "execution_count": 58,
   "metadata": {},
   "outputs": [
    {
     "data": {
      "text/plain": [
       "2230.94824901245"
      ]
     },
     "execution_count": 58,
     "metadata": {},
     "output_type": "execute_result"
    }
   ],
   "source": [
    "# Akaike information criterion , lower the value better the prediction \n",
    "birth_model_fit.aic"
   ]
  },
  {
   "cell_type": "code",
   "execution_count": 59,
   "metadata": {},
   "outputs": [
    {
     "data": {
      "text/plain": [
       "array([45.30384103, 46.31074405, 43.64963085, 44.59236349, 46.49718319,\n",
       "       44.34363874, 44.09002194, 46.34404451, 45.07550376, 43.88123853,\n",
       "       45.95230735, 45.69592493, 43.97415625, 45.45691696, 46.10393962,\n",
       "       44.31151816, 44.99252023, 46.26036906, 44.79363348, 44.6649282 ,\n",
       "       46.1859242 , 45.30655668, 44.5334176 , 45.94690945, 45.74863534,\n",
       "       44.60583748, 45.6336096 , 46.05006   , 44.84544317, 45.33715779,\n",
       "       46.18242208, 45.1860684 , 45.13004688, 46.15790218, 45.55103601])"
      ]
     },
     "execution_count": 59,
     "metadata": {},
     "output_type": "execute_result"
    }
   ],
   "source": [
    "birth_forecast = birth_model_fit.forecast(steps = 35)[0]\n",
    "birth_forecast"
   ]
  },
  {
   "cell_type": "code",
   "execution_count": 62,
   "metadata": {},
   "outputs": [],
   "source": [
    "#birth_test"
   ]
  },
  {
   "cell_type": "code",
   "execution_count": 61,
   "metadata": {},
   "outputs": [
    {
     "data": {
      "text/plain": [
       "6.860031644571154"
      ]
     },
     "execution_count": 61,
     "metadata": {},
     "output_type": "execute_result"
    }
   ],
   "source": [
    "# root mean squared error of ARIMA model \n",
    "error_ARIMA = np.sqrt(mean_squared_error(birth_test,birth_forecast))"
   ]
  },
  {
   "cell_type": "markdown",
   "metadata": {},
   "source": [
    "\n",
    "# NORMALIZATION\n",
    "\n",
    "\n",
    "\n",
    "#### 1. If your data is on different scales\n",
    "#### 2. Because some algorithms work better when data is normalised \n"
   ]
  },
  {
   "cell_type": "code",
   "execution_count": 67,
   "metadata": {},
   "outputs": [],
   "source": [
    "import pandas as pd\n",
    "import matplotlib.pyplot as plt\n",
    "from sklearn.preprocessing import MinMaxScaler\n",
    "from statsmodels.tsa.arima_model import ARIMA\n",
    "from sklearn.metrics import mean_squared_error\n",
    "import numpy as np\n",
    "\n",
    "%matplotlib inline   "
   ]
  },
  {
   "cell_type": "code",
   "execution_count": 68,
   "metadata": {},
   "outputs": [],
   "source": [
    "f_birth = pd.read_csv('daily-total-female-births-CA.csv',index_col=[0],parse_dates=[0])"
   ]
  },
  {
   "cell_type": "code",
   "execution_count": 69,
   "metadata": {},
   "outputs": [],
   "source": [
    "# normalization = (x-min)/(max-min)"
   ]
  },
  {
   "cell_type": "code",
   "execution_count": 32,
   "metadata": {},
   "outputs": [
    {
     "name": "stdout",
     "output_type": "stream",
     "text": [
      "[35]\n"
     ]
    }
   ],
   "source": [
    "birth_arr = f_birth.values\n",
    "scaler = MinMaxScaler(feature_range=(0,1))\n",
    "\n",
    "scaler = scaler.fit(birth_arr)"
   ]
  },
  {
   "cell_type": "code",
   "execution_count": 75,
   "metadata": {},
   "outputs": [
    {
     "data": {
      "text/plain": [
       "array([0.24])"
      ]
     },
     "execution_count": 75,
     "metadata": {},
     "output_type": "execute_result"
    }
   ],
   "source": [
    "birth_normalize = scaler.transform(birth_arr)\n"
   ]
  },
  {
   "cell_type": "code",
   "execution_count": 76,
   "metadata": {},
   "outputs": [],
   "source": [
    "# spliting the data set to train and test \n",
    "\n",
    "birth_train = birth_normalize[0:330]\n",
    "birth_test  = birth_normalize[330:365]\n",
    "\n",
    "# training the moedel \n",
    "birth_model = ARIMA(birth_train,order=(2,1,3))\n",
    "birth_model_fit = birth_model.fit()"
   ]
  },
  {
   "cell_type": "code",
   "execution_count": 77,
   "metadata": {},
   "outputs": [
    {
     "data": {
      "text/plain": [
       "-343.1628892542186"
      ]
     },
     "execution_count": 77,
     "metadata": {},
     "output_type": "execute_result"
    }
   ],
   "source": [
    "birth_model_fit.aic"
   ]
  },
  {
   "cell_type": "code",
   "execution_count": 87,
   "metadata": {},
   "outputs": [],
   "source": [
    "birth_forecast = birth_model_fit.forecast(steps = 35)[0]\n",
    "birth_forecast_reshape = birth_forecast.reshape(len(birth_forecast),1)\n",
    "birth_forecast_reverse = scaler.inverse_transform(birth_forecast_reshape)\n",
    "\n",
    "birth_test_reshape = birth_test.reshape(len(birth_test),1)\n",
    "birth_test_reverse = scaler.inverse_transform(birth_test_reshape)"
   ]
  },
  {
   "cell_type": "code",
   "execution_count": 88,
   "metadata": {},
   "outputs": [
    {
     "data": {
      "text/plain": [
       "6.859950383004437"
      ]
     },
     "execution_count": 88,
     "metadata": {},
     "output_type": "execute_result"
    }
   ],
   "source": [
    "# checking root mean squared error\n",
    "\n",
    "error_normalization = np.sqrt(mean_squared_error(birth_test_reverse,birth_forecast_reverse))"
   ]
  },
  {
   "cell_type": "markdown",
   "metadata": {},
   "source": [
    "\n",
    "\n",
    "\n",
    "# Standardization "
   ]
  },
  {
   "cell_type": "code",
   "execution_count": 89,
   "metadata": {},
   "outputs": [],
   "source": [
    "# Standardization \n",
    "\n",
    "from sklearn.preprocessing import StandardScaler"
   ]
  },
  {
   "cell_type": "code",
   "execution_count": 91,
   "metadata": {},
   "outputs": [],
   "source": [
    "std_scalar = StandardScaler()\n",
    "std_scalar = std_scalar.fit(birth_arr)\n",
    "\n",
    "std_birth = std_scalar.transform(birth_arr)"
   ]
  },
  {
   "cell_type": "code",
   "execution_count": 93,
   "metadata": {},
   "outputs": [],
   "source": [
    "# spliting the data set to train and test \n",
    "\n",
    "std_birth_train = std_birth[0:330]\n",
    "std_birth_test  = std_birth[330:365]\n",
    "\n",
    "# training the moedel \n",
    "std_birth_model = ARIMA(std_birth_train,order=(2,1,3))\n",
    "std_birth_model_fit = std_birth_model.fit()"
   ]
  },
  {
   "cell_type": "code",
   "execution_count": 101,
   "metadata": {},
   "outputs": [
    {
     "data": {
      "text/plain": [
       "array([[ 1.22907491],\n",
       "       [ 0.54770744],\n",
       "       [ 0.27516045],\n",
       "       [ 1.3653484 ],\n",
       "       [ 0.41143395],\n",
       "       [-1.36012148],\n",
       "       [ 0.54770744],\n",
       "       [-0.13366003],\n",
       "       [-1.08757449],\n",
       "       [-1.22384798],\n",
       "       [-0.8150275 ],\n",
       "       [ 0.95652792],\n",
       "       [ 0.13888696],\n",
       "       [ 0.13888696],\n",
       "       [-1.08757449],\n",
       "       [-0.40620702],\n",
       "       [-0.95130099],\n",
       "       [ 1.3653484 ],\n",
       "       [ 0.68398093],\n",
       "       [ 1.3653484 ],\n",
       "       [-0.40620702],\n",
       "       [-0.26993352],\n",
       "       [ 0.00261346],\n",
       "       [ 0.00261346],\n",
       "       [ 1.5016219 ],\n",
       "       [-0.40620702],\n",
       "       [-0.26993352],\n",
       "       [-0.54248051],\n",
       "       [ 0.27516045],\n",
       "       [-1.08757449],\n",
       "       [-0.67875401],\n",
       "       [ 1.3653484 ],\n",
       "       [ 0.82025443],\n",
       "       [ 1.77416889],\n",
       "       [ 1.09280142]])"
      ]
     },
     "execution_count": 101,
     "metadata": {},
     "output_type": "execute_result"
    }
   ],
   "source": [
    "birth_model_fit.aic\n"
   ]
  },
  {
   "cell_type": "code",
   "execution_count": 103,
   "metadata": {},
   "outputs": [
    {
     "data": {
      "text/plain": [
       "array([[45.30367097],\n",
       "       [46.31068917],\n",
       "       [43.64937465],\n",
       "       [44.59213074],\n",
       "       [46.49711221],\n",
       "       [44.34343248],\n",
       "       [44.08975251],\n",
       "       [46.34393423],\n",
       "       [45.07533907],\n",
       "       [43.88095927],\n",
       "       [45.95214755],\n",
       "       [45.69578398],\n",
       "       [43.97388834],\n",
       "       [45.45670992],\n",
       "       [46.10380152],\n",
       "       [44.31127339],\n",
       "       [44.99227728],\n",
       "       [46.26021553],\n",
       "       [44.79341355],\n",
       "       [44.66466494],\n",
       "       [46.18574337],\n",
       "       [45.30635514],\n",
       "       [44.53314912],\n",
       "       [45.94669731],\n",
       "       [45.74844101],\n",
       "       [44.60557479],\n",
       "       [45.63336916],\n",
       "       [46.04986085],\n",
       "       [44.8451914 ],\n",
       "       [45.33689671],\n",
       "       [46.18220843],\n",
       "       [45.18582682],\n",
       "       [45.1297745 ],\n",
       "       [46.15766861],\n",
       "       [45.55079961]])"
      ]
     },
     "execution_count": 103,
     "metadata": {},
     "output_type": "execute_result"
    }
   ],
   "source": [
    "std_birth_forecast = std_birth_model_fit.forecast(steps = 35)[0]\n",
    "std_birth_forecast_reshape = std_birth_forecast.reshape(len(std_birth_forecast),1)\n",
    "std_birth_forecast_reverse = std_scalar.inverse_transform(std_birth_forecast_reshape)\n",
    "\n",
    "std_birth_forecast_reverse"
   ]
  },
  {
   "cell_type": "code",
   "execution_count": 104,
   "metadata": {},
   "outputs": [
    {
     "data": {
      "text/plain": [
       "array([[51.],\n",
       "       [46.],\n",
       "       [44.],\n",
       "       [52.],\n",
       "       [45.],\n",
       "       [32.],\n",
       "       [46.],\n",
       "       [41.],\n",
       "       [34.],\n",
       "       [33.],\n",
       "       [36.],\n",
       "       [49.],\n",
       "       [43.],\n",
       "       [43.],\n",
       "       [34.],\n",
       "       [39.],\n",
       "       [35.],\n",
       "       [52.],\n",
       "       [47.],\n",
       "       [52.],\n",
       "       [39.],\n",
       "       [40.],\n",
       "       [42.],\n",
       "       [42.],\n",
       "       [53.],\n",
       "       [39.],\n",
       "       [40.],\n",
       "       [38.],\n",
       "       [44.],\n",
       "       [34.],\n",
       "       [37.],\n",
       "       [52.],\n",
       "       [48.],\n",
       "       [55.],\n",
       "       [50.]])"
      ]
     },
     "execution_count": 104,
     "metadata": {},
     "output_type": "execute_result"
    }
   ],
   "source": [
    "std_birth_test_reshape = std_birth_test.reshape(len(std_birth_test),1)\n",
    "std_birth_test_reverse = std_scalar.inverse_transform(std_birth_test_reshape)\n",
    "std_birth_test_reverse"
   ]
  },
  {
   "cell_type": "code",
   "execution_count": 105,
   "metadata": {},
   "outputs": [
    {
     "data": {
      "text/plain": [
       "6.859967850398251"
      ]
     },
     "execution_count": 105,
     "metadata": {},
     "output_type": "execute_result"
    }
   ],
   "source": [
    "# checking root mean squared error\n",
    "\n",
    "error_standardization = np.sqrt(mean_squared_error(std_birth_test_reverse,std_birth_forecast_reverse))\n"
   ]
  },
  {
   "cell_type": "markdown",
   "metadata": {},
   "source": [
    "\n",
    "\n",
    "# Hyperparameters Tuning "
   ]
  },
  {
   "cell_type": "code",
   "execution_count": 1,
   "metadata": {},
   "outputs": [],
   "source": [
    "import pandas as pd\n",
    "import matplotlib.pyplot as plt\n",
    "from sklearn.preprocessing import MinMaxScaler\n",
    "from statsmodels.tsa.arima_model import ARIMA\n",
    "from sklearn.metrics import mean_squared_error\n",
    "import numpy as np\n",
    "import warnings\n",
    "warnings.filterwarnings('ignore')\n",
    "\n",
    "%matplotlib inline  "
   ]
  },
  {
   "cell_type": "code",
   "execution_count": 2,
   "metadata": {},
   "outputs": [],
   "source": [
    "f_birth = pd.read_csv('daily-total-female-births-CA.csv',index_col=[0],parse_dates=[0])"
   ]
  },
  {
   "cell_type": "code",
   "execution_count": 3,
   "metadata": {},
   "outputs": [],
   "source": [
    "p_values = range(0,8)\n",
    "d_values = range(0,3)\n",
    "q_values = range(0,5)"
   ]
  },
  {
   "cell_type": "code",
   "execution_count": 4,
   "metadata": {},
   "outputs": [
    {
     "name": "stdout",
     "output_type": "stream",
     "text": [
      "ARIMA (0, 0, 1) , MSE = 42.63\n",
      "ARIMA (0, 0, 2) , MSE = 42.63\n",
      "ARIMA (0, 0, 3) , MSE = 42.68\n",
      "ARIMA (0, 0, 4) , MSE = 43.40\n",
      "ARIMA (0, 1, 1) , MSE = 45.77\n",
      "ARIMA (0, 1, 2) , MSE = 49.25\n",
      "ARIMA (0, 1, 3) , MSE = 51.52\n",
      "ARIMA (0, 1, 4) , MSE = 51.80\n",
      "ARIMA (0, 2, 1) , MSE = 78.32\n",
      "ARIMA (0, 2, 2) , MSE = 45.01\n",
      "ARIMA (0, 2, 3) , MSE = 47.08\n",
      "ARIMA (0, 2, 4) , MSE = 47.71\n",
      "ARIMA (1, 0, 0) , MSE = 42.73\n",
      "ARIMA (1, 0, 1) , MSE = 43.49\n",
      "ARIMA (1, 1, 0) , MSE = 59.76\n",
      "ARIMA (1, 1, 1) , MSE = 50.31\n",
      "ARIMA (1, 1, 2) , MSE = 45.38\n",
      "ARIMA (1, 1, 3) , MSE = 48.13\n",
      "ARIMA (1, 1, 4) , MSE = 50.08\n",
      "ARIMA (1, 2, 0) , MSE = 65.08\n",
      "ARIMA (2, 0, 0) , MSE = 42.90\n",
      "ARIMA (2, 0, 1) , MSE = 44.41\n",
      "ARIMA (2, 0, 2) , MSE = 43.21\n",
      "ARIMA (2, 1, 0) , MSE = 65.58\n",
      "ARIMA (2, 1, 1) , MSE = 52.08\n",
      "ARIMA (2, 1, 2) , MSE = 53.17\n",
      "ARIMA (2, 1, 3) , MSE = 47.67\n",
      "ARIMA (2, 1, 4) , MSE = 48.36\n",
      "ARIMA (2, 2, 0) , MSE = 42.69\n",
      "ARIMA (3, 0, 0) , MSE = 43.55\n",
      "ARIMA (3, 0, 1) , MSE = 44.55\n",
      "ARIMA (3, 0, 2) , MSE = 44.64\n",
      "ARIMA (3, 0, 3) , MSE = 44.28\n",
      "ARIMA (3, 1, 0) , MSE = 88.60\n",
      "ARIMA (3, 1, 1) , MSE = 52.75\n",
      "ARIMA (3, 1, 2) , MSE = 52.30\n",
      "ARIMA (3, 1, 3) , MSE = 45.01\n",
      "ARIMA (3, 1, 4) , MSE = 43.34\n",
      "ARIMA (3, 2, 0) , MSE = 86.76\n",
      "ARIMA (4, 0, 0) , MSE = 45.18\n",
      "ARIMA (4, 0, 1) , MSE = 43.12\n",
      "ARIMA (4, 0, 2) , MSE = 44.08\n",
      "ARIMA (4, 0, 3) , MSE = 47.03\n",
      "ARIMA (4, 0, 4) , MSE = 44.99\n",
      "ARIMA (4, 1, 0) , MSE = 65.49\n",
      "ARIMA (4, 1, 1) , MSE = 53.32\n",
      "ARIMA (4, 1, 2) , MSE = 51.15\n",
      "ARIMA (4, 1, 3) , MSE = 59.66\n",
      "ARIMA (4, 1, 4) , MSE = 51.93\n",
      "ARIMA (4, 2, 0) , MSE = 92.97\n",
      "ARIMA (5, 0, 0) , MSE = 44.18\n",
      "ARIMA (5, 0, 1) , MSE = 44.53\n",
      "ARIMA (5, 0, 2) , MSE = 43.97\n",
      "ARIMA (5, 0, 3) , MSE = 43.14\n",
      "ARIMA (5, 0, 4) , MSE = 46.06\n",
      "ARIMA (5, 1, 0) , MSE = 61.00\n",
      "ARIMA (5, 1, 1) , MSE = 52.26\n",
      "ARIMA (5, 1, 2) , MSE = 52.69\n",
      "ARIMA (5, 1, 3) , MSE = 51.42\n",
      "ARIMA (5, 1, 4) , MSE = 56.81\n",
      "ARIMA (5, 2, 0) , MSE = 73.36\n",
      "ARIMA (6, 0, 0) , MSE = 44.20\n",
      "ARIMA (6, 0, 1) , MSE = 44.02\n",
      "ARIMA (6, 0, 2) , MSE = 43.91\n",
      "ARIMA (6, 0, 3) , MSE = 70.89\n",
      "ARIMA (6, 0, 4) , MSE = 47.13\n",
      "ARIMA (6, 1, 0) , MSE = 70.90\n",
      "ARIMA (6, 1, 1) , MSE = 52.13\n",
      "ARIMA (6, 1, 2) , MSE = 52.30\n",
      "ARIMA (6, 1, 3) , MSE = 51.69\n",
      "ARIMA (6, 1, 4) , MSE = 52.67\n",
      "ARIMA (6, 2, 0) , MSE = 75.51\n",
      "ARIMA (6, 2, 1) , MSE = 70.25\n",
      "ARIMA (6, 2, 2) , MSE = 48.51\n",
      "ARIMA (7, 0, 0) , MSE = 48.45\n",
      "ARIMA (7, 0, 1) , MSE = 48.36\n",
      "ARIMA (7, 0, 2) , MSE = 50.98\n",
      "ARIMA (7, 0, 3) , MSE = 48.47\n",
      "ARIMA (7, 0, 4) , MSE = 42.66\n",
      "ARIMA (7, 1, 0) , MSE = 69.38\n",
      "ARIMA (7, 1, 1) , MSE = 57.33\n",
      "ARIMA (7, 1, 2) , MSE = 52.05\n",
      "ARIMA (7, 1, 3) , MSE = 43.62\n",
      "ARIMA (7, 1, 4) , MSE = 43.92\n",
      "ARIMA (7, 2, 0) , MSE = 94.78\n",
      "ARIMA (7, 2, 1) , MSE = 68.85\n",
      "ARIMA (7, 2, 2) , MSE = 56.17\n",
      "ARIMA (7, 2, 3) , MSE = 49.46\n",
      "The optimal value of the ARIMA = %s and MSE = \n"
     ]
    }
   ],
   "source": [
    "# Finding best combination of (p,d,q)\n",
    "c = [0]\n",
    "arr = f_birth.values\n",
    "for i in range(len(f_birth)):\n",
    "    if c<arr[i]:\n",
    "        c=arr[i]\n",
    "\n",
    "combo = (0,0,0)\n",
    "\n",
    "for p in p_values:\n",
    "    for d in d_values:\n",
    "        for q in q_values:\n",
    "            order = (p,d,q)\n",
    "            train,test = f_birth[0:330],f_birth[330:365]\n",
    "            predictions = list()\n",
    "            for i in range(len(test)):\n",
    "                try:\n",
    "                    model = ARIMA(train,order)\n",
    "                    model_fit = model.fit(disp=0)\n",
    "                    pred_y = model_fit.forecast()[0]\n",
    "                    predictions.append(pred_y)\n",
    "                    error = mean_squared_error(test,predictions)\n",
    "                    e = [error] \n",
    "                    if c>e:\n",
    "                        c = e\n",
    "                        combo = order\n",
    "                    print(\"ARIMA %s , MSE = %.2f\" %(order,error) )\n",
    "                except: \n",
    "                    continue \n",
    "\n",
    "print(\"The optimal value of the ARIMA = %s and MSE = \")"
   ]
  },
  {
   "cell_type": "code",
   "execution_count": 35,
   "metadata": {},
   "outputs": [
    {
     "name": "stdout",
     "output_type": "stream",
     "text": [
      "[73]\n"
     ]
    }
   ],
   "source": []
  },
  {
   "cell_type": "code",
   "execution_count": 38,
   "metadata": {},
   "outputs": [
    {
     "name": "stdout",
     "output_type": "stream",
     "text": [
      "[4]\n",
      "4\n"
     ]
    }
   ],
   "source": []
  },
  {
   "cell_type": "code",
   "execution_count": null,
   "metadata": {},
   "outputs": [],
   "source": []
  }
 ],
 "metadata": {
  "kernelspec": {
   "display_name": "Python 3",
   "language": "python",
   "name": "python3"
  },
  "language_info": {
   "codemirror_mode": {
    "name": "ipython",
    "version": 3
   },
   "file_extension": ".py",
   "mimetype": "text/x-python",
   "name": "python",
   "nbconvert_exporter": "python",
   "pygments_lexer": "ipython3",
   "version": "3.7.6"
  }
 },
 "nbformat": 4,
 "nbformat_minor": 4
}
